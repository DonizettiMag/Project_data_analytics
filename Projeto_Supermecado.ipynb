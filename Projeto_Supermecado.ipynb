{
 "cells": [
  {
   "cell_type": "markdown",
   "id": "f30e8b46",
   "metadata": {},
   "source": [
    "<h1> <b> Análise de Cluster - Agrupamento Via K-means </b> </h1>"
   ]
  },
  {
   "cell_type": "markdown",
   "id": "e89f089d",
   "metadata": {},
   "source": [
    "<h2>Importanto Bibliotecas</h2>"
   ]
  },
  {
   "cell_type": "code",
   "execution_count": 3,
   "id": "a06a4805",
   "metadata": {},
   "outputs": [],
   "source": [
    "import pandas as pd\n",
    "import numpy as np\n",
    "import matplotlib.pyplot as plt\n",
    "from sklearn.cluster import KMeans"
   ]
  },
  {
   "cell_type": "markdown",
   "id": "374c5ec5",
   "metadata": {},
   "source": [
    "<h2> Leitura de dados </h2>"
   ]
  },
  {
   "cell_type": "code",
   "execution_count": 4,
   "id": "85a540e1",
   "metadata": {},
   "outputs": [
    {
     "data": {
      "text/html": [
       "<div>\n",
       "<style scoped>\n",
       "    .dataframe tbody tr th:only-of-type {\n",
       "        vertical-align: middle;\n",
       "    }\n",
       "\n",
       "    .dataframe tbody tr th {\n",
       "        vertical-align: top;\n",
       "    }\n",
       "\n",
       "    .dataframe thead th {\n",
       "        text-align: right;\n",
       "    }\n",
       "</style>\n",
       "<table border=\"1\" class=\"dataframe\">\n",
       "  <thead>\n",
       "    <tr style=\"text-align: right;\">\n",
       "      <th></th>\n",
       "      <th>codigo</th>\n",
       "      <th>municipio</th>\n",
       "      <th>area</th>\n",
       "      <th>densidade</th>\n",
       "      <th>distancia</th>\n",
       "      <th>esp_vida</th>\n",
       "      <th>mortalidade</th>\n",
       "      <th>tx_fecundidade</th>\n",
       "      <th>analfabetismo_percet</th>\n",
       "      <th>renda_per_capita</th>\n",
       "      <th>...</th>\n",
       "      <th>tx_alfabetizacao</th>\n",
       "      <th>anos_estudo_25+</th>\n",
       "      <th>pop_25+_1991</th>\n",
       "      <th>pop_25+_2000</th>\n",
       "      <th>pop_65+_1991</th>\n",
       "      <th>pop_65+_2000</th>\n",
       "      <th>pop_total_1991</th>\n",
       "      <th>pop_total_2000</th>\n",
       "      <th>pop_urbana</th>\n",
       "      <th>pop_rural</th>\n",
       "    </tr>\n",
       "  </thead>\n",
       "  <tbody>\n",
       "    <tr>\n",
       "      <th>0</th>\n",
       "      <td>520005</td>\n",
       "      <td>Abadia de Goiás (GO)</td>\n",
       "      <td>136.9</td>\n",
       "      <td>36.3</td>\n",
       "      <td>21.414308</td>\n",
       "      <td>67.58</td>\n",
       "      <td>27.70</td>\n",
       "      <td>2.85</td>\n",
       "      <td>15.64</td>\n",
       "      <td>205.27</td>\n",
       "      <td>...</td>\n",
       "      <td>88.03</td>\n",
       "      <td>4.87</td>\n",
       "      <td>1872</td>\n",
       "      <td>2433</td>\n",
       "      <td>121</td>\n",
       "      <td>227</td>\n",
       "      <td>4227</td>\n",
       "      <td>4971</td>\n",
       "      <td>3096</td>\n",
       "      <td>1875</td>\n",
       "    </tr>\n",
       "    <tr>\n",
       "      <th>1</th>\n",
       "      <td>310010</td>\n",
       "      <td>Abadia dos Dourados (MG)</td>\n",
       "      <td>897.4</td>\n",
       "      <td>7.2</td>\n",
       "      <td>390.876513</td>\n",
       "      <td>72.92</td>\n",
       "      <td>20.51</td>\n",
       "      <td>2.54</td>\n",
       "      <td>14.48</td>\n",
       "      <td>196.36</td>\n",
       "      <td>...</td>\n",
       "      <td>86.58</td>\n",
       "      <td>4.36</td>\n",
       "      <td>3308</td>\n",
       "      <td>3781</td>\n",
       "      <td>354</td>\n",
       "      <td>459</td>\n",
       "      <td>6492</td>\n",
       "      <td>6446</td>\n",
       "      <td>3927</td>\n",
       "      <td>2519</td>\n",
       "    </tr>\n",
       "    <tr>\n",
       "      <th>2</th>\n",
       "      <td>520010</td>\n",
       "      <td>Abadiânia (GO)</td>\n",
       "      <td>1047.7</td>\n",
       "      <td>10.9</td>\n",
       "      <td>78.641435</td>\n",
       "      <td>69.59</td>\n",
       "      <td>22.36</td>\n",
       "      <td>2.77</td>\n",
       "      <td>21.81</td>\n",
       "      <td>168.31</td>\n",
       "      <td>...</td>\n",
       "      <td>82.45</td>\n",
       "      <td>4.24</td>\n",
       "      <td>4241</td>\n",
       "      <td>5918</td>\n",
       "      <td>446</td>\n",
       "      <td>686</td>\n",
       "      <td>9402</td>\n",
       "      <td>11452</td>\n",
       "      <td>7206</td>\n",
       "      <td>4246</td>\n",
       "    </tr>\n",
       "    <tr>\n",
       "      <th>3</th>\n",
       "      <td>150010</td>\n",
       "      <td>Abaetetuba (PA)</td>\n",
       "      <td>1613.9</td>\n",
       "      <td>73.8</td>\n",
       "      <td>51.184552</td>\n",
       "      <td>70.77</td>\n",
       "      <td>25.61</td>\n",
       "      <td>3.15</td>\n",
       "      <td>24.85</td>\n",
       "      <td>102.14</td>\n",
       "      <td>...</td>\n",
       "      <td>80.74</td>\n",
       "      <td>4.28</td>\n",
       "      <td>33554</td>\n",
       "      <td>44897</td>\n",
       "      <td>3792</td>\n",
       "      <td>4688</td>\n",
       "      <td>99989</td>\n",
       "      <td>119152</td>\n",
       "      <td>70843</td>\n",
       "      <td>48309</td>\n",
       "    </tr>\n",
       "    <tr>\n",
       "      <th>4</th>\n",
       "      <td>310020</td>\n",
       "      <td>Abaeté (MG)</td>\n",
       "      <td>1822.4</td>\n",
       "      <td>12.3</td>\n",
       "      <td>172.311549</td>\n",
       "      <td>72.50</td>\n",
       "      <td>21.59</td>\n",
       "      <td>2.41</td>\n",
       "      <td>15.56</td>\n",
       "      <td>253.68</td>\n",
       "      <td>...</td>\n",
       "      <td>87.55</td>\n",
       "      <td>4.78</td>\n",
       "      <td>10163</td>\n",
       "      <td>12406</td>\n",
       "      <td>1084</td>\n",
       "      <td>1595</td>\n",
       "      <td>20689</td>\n",
       "      <td>22360</td>\n",
       "      <td>19022</td>\n",
       "      <td>3338</td>\n",
       "    </tr>\n",
       "  </tbody>\n",
       "</table>\n",
       "<p>5 rows × 25 columns</p>\n",
       "</div>"
      ],
      "text/plain": [
       "   codigo                 municipio    area  densidade   distancia  esp_vida  \\\n",
       "0  520005      Abadia de Goiás (GO)   136.9       36.3   21.414308     67.58   \n",
       "1  310010  Abadia dos Dourados (MG)   897.4        7.2  390.876513     72.92   \n",
       "2  520010            Abadiânia (GO)  1047.7       10.9   78.641435     69.59   \n",
       "3  150010           Abaetetuba (PA)  1613.9       73.8   51.184552     70.77   \n",
       "4  310020               Abaeté (MG)  1822.4       12.3  172.311549     72.50   \n",
       "\n",
       "   mortalidade  tx_fecundidade  analfabetismo_percet  renda_per_capita  ...  \\\n",
       "0        27.70            2.85                 15.64            205.27  ...   \n",
       "1        20.51            2.54                 14.48            196.36  ...   \n",
       "2        22.36            2.77                 21.81            168.31  ...   \n",
       "3        25.61            3.15                 24.85            102.14  ...   \n",
       "4        21.59            2.41                 15.56            253.68  ...   \n",
       "\n",
       "   tx_alfabetizacao  anos_estudo_25+  pop_25+_1991  pop_25+_2000  \\\n",
       "0             88.03             4.87          1872          2433   \n",
       "1             86.58             4.36          3308          3781   \n",
       "2             82.45             4.24          4241          5918   \n",
       "3             80.74             4.28         33554         44897   \n",
       "4             87.55             4.78         10163         12406   \n",
       "\n",
       "   pop_65+_1991  pop_65+_2000  pop_total_1991  pop_total_2000  pop_urbana  \\\n",
       "0           121           227            4227            4971        3096   \n",
       "1           354           459            6492            6446        3927   \n",
       "2           446           686            9402           11452        7206   \n",
       "3          3792          4688           99989          119152       70843   \n",
       "4          1084          1595           20689           22360       19022   \n",
       "\n",
       "   pop_rural  \n",
       "0       1875  \n",
       "1       2519  \n",
       "2       4246  \n",
       "3      48309  \n",
       "4       3338  \n",
       "\n",
       "[5 rows x 25 columns]"
      ]
     },
     "execution_count": 4,
     "metadata": {},
     "output_type": "execute_result"
    }
   ],
   "source": [
    "df=pd.read_excel('database.xlsx')\n",
    "df.head()"
   ]
  },
  {
   "cell_type": "code",
   "execution_count": 5,
   "id": "8d88e192",
   "metadata": {},
   "outputs": [],
   "source": [
    "df['%_crescimento'] = ((df['pop_total_2000']-df['pop_total_1991'])/df['pop_total_1991'])*100"
   ]
  },
  {
   "cell_type": "markdown",
   "id": "db7ec3c6",
   "metadata": {},
   "source": [
    "Aplicando matriz de correlação para reduzir número de variáveis"
   ]
  },
  {
   "cell_type": "code",
   "execution_count": 6,
   "id": "dc6ef3b7",
   "metadata": {},
   "outputs": [],
   "source": [
    "numerical = df._get_numeric_data()\n",
    "numerical.head()\n",
    "correlation=numerical.corr()\n",
    "correlation.to_csv('correlação.csv')"
   ]
  },
  {
   "cell_type": "markdown",
   "id": "522d40a6",
   "metadata": {},
   "source": [
    "<h2> Exclusão de variavéis que não são de interesse </h2>"
   ]
  },
  {
   "cell_type": "code",
   "execution_count": 7,
   "id": "d938be76",
   "metadata": {
    "scrolled": true
   },
   "outputs": [
    {
     "name": "stdout",
     "output_type": "stream",
     "text": [
      "codigo\n",
      "municipio\n",
      "area\n",
      "densidade\n",
      "distancia\n",
      "esp_vida\n",
      "mortalidade\n",
      "tx_fecundidade\n",
      "analfabetismo_percet\n",
      "renda_per_capita\n",
      "in_gini\n",
      "indigencia\n",
      "intens_pobreza\n",
      "idh\n",
      "frequencia_escolar\n",
      "tx_alfabetizacao\n",
      "anos_estudo_25+\n",
      "pop_25+_1991\n",
      "pop_25+_2000\n",
      "pop_65+_1991\n",
      "pop_65+_2000\n",
      "pop_total_1991\n",
      "pop_total_2000\n",
      "pop_urbana\n",
      "pop_rural\n",
      "%_crescimento\n"
     ]
    }
   ],
   "source": [
    "for column in df:\n",
    "        print(column)"
   ]
  },
  {
   "cell_type": "code",
   "execution_count": 8,
   "id": "5b252554",
   "metadata": {},
   "outputs": [],
   "source": [
    "df=df.drop(columns=['area',\n",
    "    'codigo',\n",
    "    'esp_vida',\n",
    "    'mortalidade',\n",
    "    'tx_fecundidade',\n",
    "    'analfabetismo_percet',\n",
    "    'intens_pobreza',\n",
    "    'idh',\n",
    "    'frequencia_escolar',\n",
    "    'tx_alfabetizacao',\n",
    "    'anos_estudo_25+',\n",
    "    'pop_25+_1991',\n",
    "    'pop_25+_2000',\n",
    "    'pop_65+_1991',\n",
    "    'pop_65+_2000',\n",
    "    'pop_total_1991',\n",
    "    'pop_urbana',\n",
    "    'pop_rural',\n",
    "    'in_gini',\n",
    "    'indigencia',\n",
    "    'distancia'])"
   ]
  },
  {
   "cell_type": "code",
   "execution_count": 9,
   "id": "fdee9bee",
   "metadata": {},
   "outputs": [
    {
     "name": "stdout",
     "output_type": "stream",
     "text": [
      "municipio\n",
      "densidade\n",
      "renda_per_capita\n",
      "pop_total_2000\n",
      "%_crescimento\n"
     ]
    }
   ],
   "source": [
    "for column in df:\n",
    "    print(column)"
   ]
  },
  {
   "cell_type": "markdown",
   "id": "df38b9cf",
   "metadata": {},
   "source": [
    "<h2> Clusterização Hierarquica </h2>"
   ]
  },
  {
   "cell_type": "markdown",
   "id": "09b8ef5e",
   "metadata": {},
   "source": [
    "<h3> Padronização dos dados </h3>"
   ]
  },
  {
   "cell_type": "code",
   "execution_count": 10,
   "id": "0747e533",
   "metadata": {},
   "outputs": [
    {
     "data": {
      "text/html": [
       "<div>\n",
       "<style scoped>\n",
       "    .dataframe tbody tr th:only-of-type {\n",
       "        vertical-align: middle;\n",
       "    }\n",
       "\n",
       "    .dataframe tbody tr th {\n",
       "        vertical-align: top;\n",
       "    }\n",
       "\n",
       "    .dataframe thead th {\n",
       "        text-align: right;\n",
       "    }\n",
       "</style>\n",
       "<table border=\"1\" class=\"dataframe\">\n",
       "  <thead>\n",
       "    <tr style=\"text-align: right;\">\n",
       "      <th></th>\n",
       "      <th>municipio</th>\n",
       "      <th>densidade</th>\n",
       "      <th>renda_per_capita</th>\n",
       "      <th>pop_total_2000</th>\n",
       "      <th>%_crescimento</th>\n",
       "    </tr>\n",
       "  </thead>\n",
       "  <tbody>\n",
       "    <tr>\n",
       "      <th>0</th>\n",
       "      <td>Abadia de Goiás (GO)</td>\n",
       "      <td>36.3</td>\n",
       "      <td>205.27</td>\n",
       "      <td>4971</td>\n",
       "      <td>17.601136</td>\n",
       "    </tr>\n",
       "    <tr>\n",
       "      <th>1</th>\n",
       "      <td>Abadia dos Dourados (MG)</td>\n",
       "      <td>7.2</td>\n",
       "      <td>196.36</td>\n",
       "      <td>6446</td>\n",
       "      <td>-0.708564</td>\n",
       "    </tr>\n",
       "    <tr>\n",
       "      <th>2</th>\n",
       "      <td>Abadiânia (GO)</td>\n",
       "      <td>10.9</td>\n",
       "      <td>168.31</td>\n",
       "      <td>11452</td>\n",
       "      <td>21.803872</td>\n",
       "    </tr>\n",
       "    <tr>\n",
       "      <th>3</th>\n",
       "      <td>Abaetetuba (PA)</td>\n",
       "      <td>73.8</td>\n",
       "      <td>102.14</td>\n",
       "      <td>119152</td>\n",
       "      <td>19.165108</td>\n",
       "    </tr>\n",
       "    <tr>\n",
       "      <th>4</th>\n",
       "      <td>Abaeté (MG)</td>\n",
       "      <td>12.3</td>\n",
       "      <td>253.68</td>\n",
       "      <td>22360</td>\n",
       "      <td>8.076756</td>\n",
       "    </tr>\n",
       "  </tbody>\n",
       "</table>\n",
       "</div>"
      ],
      "text/plain": [
       "                  municipio  densidade  renda_per_capita  pop_total_2000  \\\n",
       "0      Abadia de Goiás (GO)       36.3            205.27            4971   \n",
       "1  Abadia dos Dourados (MG)        7.2            196.36            6446   \n",
       "2            Abadiânia (GO)       10.9            168.31           11452   \n",
       "3           Abaetetuba (PA)       73.8            102.14          119152   \n",
       "4               Abaeté (MG)       12.3            253.68           22360   \n",
       "\n",
       "   %_crescimento  \n",
       "0      17.601136  \n",
       "1      -0.708564  \n",
       "2      21.803872  \n",
       "3      19.165108  \n",
       "4       8.076756  "
      ]
     },
     "execution_count": 10,
     "metadata": {},
     "output_type": "execute_result"
    }
   ],
   "source": [
    "df.head()"
   ]
  },
  {
   "cell_type": "code",
   "execution_count": 11,
   "id": "b8d8c968",
   "metadata": {},
   "outputs": [],
   "source": [
    "df2=df.drop(columns=['municipio','%_crescimento'])\n",
    "X=df2.to_numpy()\n"
   ]
  },
  {
   "cell_type": "markdown",
   "id": "bd7c2998",
   "metadata": {},
   "source": [
    "<h3> Definindo o número de clusters </h3>"
   ]
  },
  {
   "cell_type": "code",
   "execution_count": 12,
   "id": "796da63d",
   "metadata": {},
   "outputs": [
    {
     "data": {
      "image/png": "[encoded data removed]",
      "text/plain": [
       "<Figure size 432x288 with 1 Axes>"
      ]
     },
     "metadata": {
      "needs_background": "light"
     },
     "output_type": "display_data"
    }
   ],
   "source": [
    "wcss = []\n",
    "for i in range(1, 11):\n",
    "    kmeans = KMeans(n_clusters = i, init = 'k-means++', max_iter = 300, n_init = 10)\n",
    "    kmeans.fit(X)\n",
    "    wcss.append(kmeans.inertia_)\n",
    "\n",
    "plt.plot(range(1, 11), wcss)\n",
    "plt.title(\"Método do Cotovelo\")\n",
    "plt.xlabel(\"Número de Clusters\")\n",
    "plt.ylabel(\"Within-Cluster-Sum-of-Squares\")\n",
    "plt.show()"
   ]
  },
  {
   "cell_type": "code",
   "execution_count": 14,
   "id": "2dda4742",
   "metadata": {},
   "outputs": [
    {
     "name": "stdout",
     "output_type": "stream",
     "text": [
      "O número de clusters escolhido foi: 3\n"
     ]
    }
   ],
   "source": [
    "n_k=int(input('O número de clusters escolhido foi: '))\n",
    "kmeans = KMeans(n_clusters = n_k, init = 'k-means++', max_iter = 300, n_init = 10)\n",
    "clusters = kmeans.fit_predict(X)\n"
   ]
  },
  {
   "cell_type": "code",
   "execution_count": 15,
   "id": "398cd29a",
   "metadata": {},
   "outputs": [
    {
     "ename": "PermissionError",
     "evalue": "[Errno 13] Permission denied: 'classificação.xlsx'",
     "output_type": "error",
     "traceback": [
      "\u001b[1;31m---------------------------------------------------------------------------\u001b[0m",
      "\u001b[1;31mPermissionError\u001b[0m                           Traceback (most recent call last)",
      "\u001b[1;32m<ipython-input-15-bd053286a002>\u001b[0m in \u001b[0;36m<module>\u001b[1;34m\u001b[0m\n\u001b[0;32m      1\u001b[0m \u001b[0mdf\u001b[0m\u001b[1;33m[\u001b[0m\u001b[1;34m'Cluster'\u001b[0m\u001b[1;33m]\u001b[0m \u001b[1;33m=\u001b[0m \u001b[0mclusters\u001b[0m\u001b[1;33m\u001b[0m\u001b[1;33m\u001b[0m\u001b[0m\n\u001b[1;32m----> 2\u001b[1;33m \u001b[0mdf\u001b[0m\u001b[1;33m.\u001b[0m\u001b[0mto_excel\u001b[0m\u001b[1;33m(\u001b[0m\u001b[1;34m'classificação.xlsx'\u001b[0m\u001b[1;33m)\u001b[0m\u001b[1;33m\u001b[0m\u001b[1;33m\u001b[0m\u001b[0m\n\u001b[0m",
      "\u001b[1;32m~\\anaconda3\\lib\\site-packages\\pandas\\core\\generic.py\u001b[0m in \u001b[0;36mto_excel\u001b[1;34m(self, excel_writer, sheet_name, na_rep, float_format, columns, header, index, index_label, startrow, startcol, engine, merge_cells, encoding, inf_rep, verbose, freeze_panes, storage_options)\u001b[0m\n\u001b[0;32m   2187\u001b[0m             \u001b[0minf_rep\u001b[0m\u001b[1;33m=\u001b[0m\u001b[0minf_rep\u001b[0m\u001b[1;33m,\u001b[0m\u001b[1;33m\u001b[0m\u001b[1;33m\u001b[0m\u001b[0m\n\u001b[0;32m   2188\u001b[0m         )\n\u001b[1;32m-> 2189\u001b[1;33m         formatter.write(\n\u001b[0m\u001b[0;32m   2190\u001b[0m             \u001b[0mexcel_writer\u001b[0m\u001b[1;33m,\u001b[0m\u001b[1;33m\u001b[0m\u001b[1;33m\u001b[0m\u001b[0m\n\u001b[0;32m   2191\u001b[0m             \u001b[0msheet_name\u001b[0m\u001b[1;33m=\u001b[0m\u001b[0msheet_name\u001b[0m\u001b[1;33m,\u001b[0m\u001b[1;33m\u001b[0m\u001b[1;33m\u001b[0m\u001b[0m\n",
      "\u001b[1;32m~\\anaconda3\\lib\\site-packages\\pandas\\io\\formats\\excel.py\u001b[0m in \u001b[0;36mwrite\u001b[1;34m(self, writer, sheet_name, startrow, startcol, freeze_panes, engine, storage_options)\u001b[0m\n\u001b[0;32m    813\u001b[0m             \u001b[1;31m# abstract class 'ExcelWriter' with abstract attributes 'engine',\u001b[0m\u001b[1;33m\u001b[0m\u001b[1;33m\u001b[0m\u001b[1;33m\u001b[0m\u001b[0m\n\u001b[0;32m    814\u001b[0m             \u001b[1;31m# 'save', 'supported_extensions' and 'write_cells'  [abstract]\u001b[0m\u001b[1;33m\u001b[0m\u001b[1;33m\u001b[0m\u001b[1;33m\u001b[0m\u001b[0m\n\u001b[1;32m--> 815\u001b[1;33m             writer = ExcelWriter(  # type: ignore[abstract]\n\u001b[0m\u001b[0;32m    816\u001b[0m                 \u001b[0mwriter\u001b[0m\u001b[1;33m,\u001b[0m \u001b[0mengine\u001b[0m\u001b[1;33m=\u001b[0m\u001b[0mengine\u001b[0m\u001b[1;33m,\u001b[0m \u001b[0mstorage_options\u001b[0m\u001b[1;33m=\u001b[0m\u001b[0mstorage_options\u001b[0m\u001b[1;33m\u001b[0m\u001b[1;33m\u001b[0m\u001b[0m\n\u001b[0;32m    817\u001b[0m             )\n",
      "\u001b[1;32m~\\anaconda3\\lib\\site-packages\\pandas\\io\\excel\\_xlsxwriter.py\u001b[0m in \u001b[0;36m__init__\u001b[1;34m(self, path, engine, date_format, datetime_format, mode, storage_options, **engine_kwargs)\u001b[0m\n\u001b[0;32m    180\u001b[0m             \u001b[1;32mraise\u001b[0m \u001b[0mValueError\u001b[0m\u001b[1;33m(\u001b[0m\u001b[1;34m\"Append mode is not supported with xlsxwriter!\"\u001b[0m\u001b[1;33m)\u001b[0m\u001b[1;33m\u001b[0m\u001b[1;33m\u001b[0m\u001b[0m\n\u001b[0;32m    181\u001b[0m \u001b[1;33m\u001b[0m\u001b[0m\n\u001b[1;32m--> 182\u001b[1;33m         super().__init__(\n\u001b[0m\u001b[0;32m    183\u001b[0m             \u001b[0mpath\u001b[0m\u001b[1;33m,\u001b[0m\u001b[1;33m\u001b[0m\u001b[1;33m\u001b[0m\u001b[0m\n\u001b[0;32m    184\u001b[0m             \u001b[0mengine\u001b[0m\u001b[1;33m=\u001b[0m\u001b[0mengine\u001b[0m\u001b[1;33m,\u001b[0m\u001b[1;33m\u001b[0m\u001b[1;33m\u001b[0m\u001b[0m\n",
      "\u001b[1;32m~\\anaconda3\\lib\\site-packages\\pandas\\io\\excel\\_base.py\u001b[0m in \u001b[0;36m__init__\u001b[1;34m(self, path, engine, date_format, datetime_format, mode, storage_options, **engine_kwargs)\u001b[0m\n\u001b[0;32m    808\u001b[0m         \u001b[0mself\u001b[0m\u001b[1;33m.\u001b[0m\u001b[0mhandles\u001b[0m \u001b[1;33m=\u001b[0m \u001b[0mIOHandles\u001b[0m\u001b[1;33m(\u001b[0m\u001b[0mcast\u001b[0m\u001b[1;33m(\u001b[0m\u001b[0mBuffer\u001b[0m\u001b[1;33m,\u001b[0m \u001b[0mpath\u001b[0m\u001b[1;33m)\u001b[0m\u001b[1;33m,\u001b[0m \u001b[0mcompression\u001b[0m\u001b[1;33m=\u001b[0m\u001b[1;33m{\u001b[0m\u001b[1;34m\"copression\"\u001b[0m\u001b[1;33m:\u001b[0m \u001b[1;32mNone\u001b[0m\u001b[1;33m}\u001b[0m\u001b[1;33m)\u001b[0m\u001b[1;33m\u001b[0m\u001b[1;33m\u001b[0m\u001b[0m\n\u001b[0;32m    809\u001b[0m         \u001b[1;32mif\u001b[0m \u001b[1;32mnot\u001b[0m \u001b[0misinstance\u001b[0m\u001b[1;33m(\u001b[0m\u001b[0mpath\u001b[0m\u001b[1;33m,\u001b[0m \u001b[0mExcelWriter\u001b[0m\u001b[1;33m)\u001b[0m\u001b[1;33m:\u001b[0m\u001b[1;33m\u001b[0m\u001b[1;33m\u001b[0m\u001b[0m\n\u001b[1;32m--> 810\u001b[1;33m             self.handles = get_handle(\n\u001b[0m\u001b[0;32m    811\u001b[0m                 \u001b[0mpath\u001b[0m\u001b[1;33m,\u001b[0m \u001b[0mmode\u001b[0m\u001b[1;33m,\u001b[0m \u001b[0mstorage_options\u001b[0m\u001b[1;33m=\u001b[0m\u001b[0mstorage_options\u001b[0m\u001b[1;33m,\u001b[0m \u001b[0mis_text\u001b[0m\u001b[1;33m=\u001b[0m\u001b[1;32mFalse\u001b[0m\u001b[1;33m\u001b[0m\u001b[1;33m\u001b[0m\u001b[0m\n\u001b[0;32m    812\u001b[0m             )\n",
      "\u001b[1;32m~\\anaconda3\\lib\\site-packages\\pandas\\io\\common.py\u001b[0m in \u001b[0;36mget_handle\u001b[1;34m(path_or_buf, mode, encoding, compression, memory_map, is_text, errors, storage_options)\u001b[0m\n\u001b[0;32m    649\u001b[0m         \u001b[1;32melse\u001b[0m\u001b[1;33m:\u001b[0m\u001b[1;33m\u001b[0m\u001b[1;33m\u001b[0m\u001b[0m\n\u001b[0;32m    650\u001b[0m             \u001b[1;31m# Binary mode\u001b[0m\u001b[1;33m\u001b[0m\u001b[1;33m\u001b[0m\u001b[1;33m\u001b[0m\u001b[0m\n\u001b[1;32m--> 651\u001b[1;33m             \u001b[0mhandle\u001b[0m \u001b[1;33m=\u001b[0m \u001b[0mopen\u001b[0m\u001b[1;33m(\u001b[0m\u001b[0mhandle\u001b[0m\u001b[1;33m,\u001b[0m \u001b[0mioargs\u001b[0m\u001b[1;33m.\u001b[0m\u001b[0mmode\u001b[0m\u001b[1;33m)\u001b[0m\u001b[1;33m\u001b[0m\u001b[1;33m\u001b[0m\u001b[0m\n\u001b[0m\u001b[0;32m    652\u001b[0m         \u001b[0mhandles\u001b[0m\u001b[1;33m.\u001b[0m\u001b[0mappend\u001b[0m\u001b[1;33m(\u001b[0m\u001b[0mhandle\u001b[0m\u001b[1;33m)\u001b[0m\u001b[1;33m\u001b[0m\u001b[1;33m\u001b[0m\u001b[0m\n\u001b[0;32m    653\u001b[0m \u001b[1;33m\u001b[0m\u001b[0m\n",
      "\u001b[1;31mPermissionError\u001b[0m: [Errno 13] Permission denied: 'classificação.xlsx'"
     ]
    }
   ],
   "source": [
    "df['Cluster'] = clusters\n",
    "df.to_excel('classificação.xlsx')"
   ]
  },
  {
   "cell_type": "markdown",
   "id": "89ff78fb",
   "metadata": {},
   "source": [
    "<h1>Entrando com um novo dado</h1>"
   ]
  },
  {
   "cell_type": "code",
   "execution_count": 22,
   "id": "6be6d86b",
   "metadata": {},
   "outputs": [],
   "source": [
    "import math\n",
    "def verifica_classe():\n",
    "    ##converte o valor dos cluster que foram normalizados\n",
    "    center=kmeans.cluster_centers_\n",
    "    ##recebe os dados\n",
    "    dens=float(input('Densidade: ',))\n",
    "    renda=float(input('Renda per capita: ',))\n",
    "    pop=float(input('População Total: ',))\n",
    "    ##calcula a distância euclidiana dos dados até o centróide\n",
    "    dist=[]\n",
    "    for i in range (0,n_k,1): ##onde n_k é o número de clusters\n",
    "        dist.append(math.sqrt(((dens-center[i,0])**2)+((renda-center[i,1])**2)+((pop-center[i,2])**2)))\n",
    "    n_pos=dist.index(min(dist))\n",
    "    ##classifica de acordo com a menor distância\n",
    "    if (n_pos == 0):\n",
    "        print ('Essa cidade pertence a classe 0')\n",
    "    elif (n_pos == 1):\n",
    "        print ('Essa cidade pertence a classe 1')\n",
    "    else: \n",
    "        print ('Essa cidade pertence a classe 2')"
   ]
  },
  {
   "cell_type": "code",
   "execution_count": 23,
   "id": "a9a575a0",
   "metadata": {},
   "outputs": [
    {
     "name": "stdout",
     "output_type": "stream",
     "text": [
      "Densidade: 3701.2\n",
      "Renda per capita: 512.87\n",
      "População Total: 649331\n",
      "Essa cidade pertence a classe 2\n",
      "[626340.9813278979, 7496747.271829096, 542753.0523393303]\n"
     ]
    }
   ],
   "source": [
    "verifica_classe()"
   ]
  }
 ],
 "metadata": {
  "kernelspec": {
   "display_name": "Python 3",
   "language": "python",
   "name": "python3"
  },
  "language_info": {
   "codemirror_mode": {
    "name": "ipython",
    "version": 3
   },
   "file_extension": ".py",
   "mimetype": "text/x-python",
   "name": "python",
   "nbconvert_exporter": "python",
   "pygments_lexer": "ipython3",
   "version": "3.8.8"
  }
 },
 "nbformat": 4,
 "nbformat_minor": 5
}
